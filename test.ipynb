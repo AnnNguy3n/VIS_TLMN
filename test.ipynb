{
 "cells": [
  {
   "cell_type": "code",
   "execution_count": null,
   "metadata": {},
   "outputs": [],
   "source": [
    "from env import *\n",
    "from env import __ACTIONS__\n",
    "list_player = [bot_lv0] * 4\n",
    "per_data = np.array([[0.]])"
   ]
  },
  {
   "cell_type": "code",
   "execution_count": null,
   "metadata": {},
   "outputs": [],
   "source": [
    "normal_main(list_player, 10000, np.array([[0.]]))"
   ]
  },
  {
   "cell_type": "code",
   "execution_count": null,
   "metadata": {},
   "outputs": [],
   "source": [
    "numba_main(bot_lv0, bot_lv0, bot_lv0, bot_lv0, 10000, np.array([[0.]]))"
   ]
  },
  {
   "cell_type": "code",
   "execution_count": null,
   "metadata": {},
   "outputs": [],
   "source": [
    "numba_main_2(bot_lv0, 10000, np.array([[0.]]), 0)"
   ]
  },
  {
   "cell_type": "code",
   "execution_count": null,
   "metadata": {},
   "outputs": [],
   "source": [
    "def convert(arr_card):\n",
    "    arr1 = arr_card // 4\n",
    "    arr2 = arr_card % 4\n",
    "    str1 = ['3', '4', '5', '6', '7', '8', '9', '10', 'J', 'Q', 'K', 'A', '2']\n",
    "    str2 = ['♤', '♧', '♦', '♥']\n",
    "    return [str1[arr1[i]] + ' ' + str2[arr2[i]] for i in range(len(arr_card))]\n",
    "\n",
    "\n",
    "env = initEnv()\n",
    "while not check_player_hand(env):\n",
    "    env = initEnv()\n",
    "\n",
    "cards_in_hand = np.full(0, 0, dtype=np.int64)\n",
    "while True:\n",
    "    print(\"-------------------------\")\n",
    "    for i in range(4):\n",
    "        arr_card = np.where(env[0:52]==i)[0]\n",
    "        print(convert(arr_card))\n",
    "\n",
    "    state = getAgentState(env, cards_in_hand)\n",
    "    arr_card = np.where(state[0:52]==1)[0]\n",
    "    print(env[52], convert(arr_card), env[57])\n",
    "\n",
    "    validActions = getValidActions(state)\n",
    "    action, per_data = list_player[env[52]](state, per_data)\n",
    "    print(action, __ACTIONS__[action], get_cards_in_hand(arr_card, __ACTIONS__[action]), convert(get_cards_in_hand(arr_card, __ACTIONS__[action])))\n",
    "    if validActions[action] != 1:\n",
    "        raise Exception('Action không hợp lệ')\n",
    "\n",
    "    if action != 0:\n",
    "        cards_in_hand = stepEnv(action, env)\n",
    "    else:\n",
    "        stepEnv(action, env)\n",
    "\n",
    "    winner = checkEnded(env)\n",
    "    if winner != -1:\n",
    "        break\n",
    "\n",
    "for i in range(4):\n",
    "    env[52] = i\n",
    "    env[57] = i\n",
    "    cards_in_hand = np.full(0, 0, dtype=np.int64)\n",
    "    state = getAgentState(env, cards_in_hand)\n",
    "    action, per_data = list_player[env[52]](state, per_data)"
   ]
  }
 ],
 "metadata": {
  "kernelspec": {
   "display_name": "TLMN_venv",
   "language": "python",
   "name": "python3"
  },
  "language_info": {
   "codemirror_mode": {
    "name": "ipython",
    "version": 3
   },
   "file_extension": ".py",
   "mimetype": "text/x-python",
   "name": "python",
   "nbconvert_exporter": "python",
   "pygments_lexer": "ipython3",
   "version": "3.10.9"
  },
  "orig_nbformat": 4,
  "vscode": {
   "interpreter": {
    "hash": "80d53df07e9ea5d02096df85cdef6a136aa0d880d40f849cded8065e40a40f48"
   }
  }
 },
 "nbformat": 4,
 "nbformat_minor": 2
}
